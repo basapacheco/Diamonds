{
 "cells": [
  {
   "cell_type": "code",
   "execution_count": 1,
   "id": "98a08d6b-ae48-4616-a0f6-65535a8fe6ac",
   "metadata": {
    "tags": []
   },
   "outputs": [],
   "source": [
    "import pandas as pd\n",
    "import os\n"
   ]
  },
  {
   "cell_type": "code",
   "execution_count": 2,
   "id": "acfca4e1-22b1-47de-8d75-3ee8e2bbdd67",
   "metadata": {
    "tags": []
   },
   "outputs": [
    {
     "name": "stdout",
     "output_type": "stream",
     "text": [
      "File diamonds_train.csv exists.\n",
      "File diamonds_test.csv exists.\n",
      "File sample_submission.csv exists.\n"
     ]
    }
   ],
   "source": [
    "# Directory where the CSV files are located\n",
    "data_dir = os.path.expanduser('~/Desktop/Diamonds/BBDDs')\n",
    "\n",
    "# Names of the CSV files\n",
    "file_names = ['diamonds_train.csv', 'diamonds_test.csv', 'sample_submission.csv']\n",
    "\n",
    "# Check if the files exist\n",
    "for file_name in file_names:\n",
    "    file_path = os.path.join(data_dir, file_name)\n",
    "    if os.path.exists(file_path):\n",
    "        print(f\"File {file_name} exists.\")\n",
    "    else:\n",
    "        print(f\"File {file_name} does not exist.\")"
   ]
  },
  {
   "cell_type": "code",
   "execution_count": 3,
   "id": "4fb65a62-6301-46d8-8df0-4fdc5cceb870",
   "metadata": {
    "tags": []
   },
   "outputs": [],
   "source": [
    "# Function to load and display the first few rows of a CSV file\n",
    "def load_and_display(file_path):\n",
    "    try:\n",
    "        df = pd.read_csv(file_path)\n",
    "        print(f\"\\nFirst 5 rows of {os.path.basename(file_path)}:\")\n",
    "        print(df.head())\n",
    "    except Exception as e:\n",
    "        print(f\"Error loading {file_path}: {e}\")\n"
   ]
  },
  {
   "cell_type": "code",
   "execution_count": 4,
   "id": "747f24dd-bd2c-4427-825f-7edbba46eb07",
   "metadata": {
    "tags": []
   },
   "outputs": [
    {
     "name": "stdout",
     "output_type": "stream",
     "text": [
      "\n",
      "First 5 rows of diamonds_train.csv:\n",
      "   carat        cut color clarity  depth  table  price     x     y     z\n",
      "0   1.21    Premium     J     VS2   62.4   58.0   4268  6.83  6.79  4.25\n",
      "1   0.32  Very Good     H     VS2   63.0   57.0    505  4.35  4.38  2.75\n",
      "2   0.71       Fair     G     VS1   65.5   55.0   2686  5.62  5.53  3.65\n",
      "3   0.41       Good     D     SI1   63.8   56.0    738  4.68  4.72  3.00\n",
      "4   1.02      Ideal     G     SI1   60.5   59.0   4882  6.55  6.51  3.95\n",
      "\n",
      "First 5 rows of diamonds_test.csv:\n",
      "   id  carat        cut color clarity  depth  table     x     y     z\n",
      "0   0   0.79  Very Good     F     SI1   62.7   60.0  5.82  5.89  3.67\n",
      "1   1   1.20      Ideal     J     VS1   61.0   57.0  6.81  6.89  4.18\n",
      "2   2   1.57    Premium     H     SI1   62.2   61.0  7.38  7.32  4.57\n",
      "3   3   0.90  Very Good     F     SI1   63.8   54.0  6.09  6.13  3.90\n",
      "4   4   0.50  Very Good     F     VS1   62.9   58.0  5.05  5.09  3.19\n",
      "\n",
      "First 5 rows of sample_submission.csv:\n",
      "   id       price\n",
      "0   0  685.639121\n",
      "1   1  642.445785\n",
      "2   2  746.907960\n",
      "3   3   60.737590\n",
      "4   4  650.451526\n"
     ]
    }
   ],
   "source": [
    "# Load and display data from the CSV files\n",
    "for file_name in file_names:\n",
    "    file_path = os.path.join(data_dir, file_name)\n",
    "    load_and_display(file_path)"
   ]
  }
 ],
 "metadata": {
  "kernelspec": {
   "display_name": "Python 3 (ipykernel)",
   "language": "python",
   "name": "python3"
  },
  "language_info": {
   "codemirror_mode": {
    "name": "ipython",
    "version": 3
   },
   "file_extension": ".py",
   "mimetype": "text/x-python",
   "name": "python",
   "nbconvert_exporter": "python",
   "pygments_lexer": "ipython3",
   "version": "3.11.5"
  }
 },
 "nbformat": 4,
 "nbformat_minor": 5
}
