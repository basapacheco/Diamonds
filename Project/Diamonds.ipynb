{
 "cells": [
  {
   "cell_type": "code",
   "execution_count": 21,
   "metadata": {},
   "outputs": [],
   "source": [
    "import pandas as pd\n",
    "import matplotlib.pyplot as plt\n",
    "import seaborn as sns\n",
    "import cufflinks as cf\n",
    "import plotly.graph_objects as go\n",
    "import plotly.express as px\n",
    "import seaborn as sns\n",
    "import numpy as np\n",
    "from sklearn.model_selection import train_test_split\n",
    "from sklearn import datasets\n",
    "from sklearn import svm\n",
    "from sklearn.model_selection import ShuffleSplit\n",
    "from sklearn import preprocessing\n",
    "from sklearn.pipeline import make_pipeline\n",
    "from sklearn.model_selection import cross_val_score"
   ]
  },
  {
   "cell_type": "code",
   "execution_count": 22,
   "metadata": {},
   "outputs": [
    {
     "data": {
      "text/html": [
       "<div>\n",
       "<style scoped>\n",
       "    .dataframe tbody tr th:only-of-type {\n",
       "        vertical-align: middle;\n",
       "    }\n",
       "\n",
       "    .dataframe tbody tr th {\n",
       "        vertical-align: top;\n",
       "    }\n",
       "\n",
       "    .dataframe thead th {\n",
       "        text-align: right;\n",
       "    }\n",
       "</style>\n",
       "<table border=\"1\" class=\"dataframe\">\n",
       "  <thead>\n",
       "    <tr style=\"text-align: right;\">\n",
       "      <th></th>\n",
       "      <th>id</th>\n",
       "      <th>carat</th>\n",
       "      <th>cut</th>\n",
       "      <th>color</th>\n",
       "      <th>clarity</th>\n",
       "      <th>depth</th>\n",
       "      <th>table</th>\n",
       "      <th>x</th>\n",
       "      <th>y</th>\n",
       "      <th>z</th>\n",
       "    </tr>\n",
       "  </thead>\n",
       "  <tbody>\n",
       "    <tr>\n",
       "      <th>0</th>\n",
       "      <td>0</td>\n",
       "      <td>0.79</td>\n",
       "      <td>Very Good</td>\n",
       "      <td>F</td>\n",
       "      <td>SI1</td>\n",
       "      <td>62.7</td>\n",
       "      <td>60.0</td>\n",
       "      <td>5.82</td>\n",
       "      <td>5.89</td>\n",
       "      <td>3.67</td>\n",
       "    </tr>\n",
       "    <tr>\n",
       "      <th>1</th>\n",
       "      <td>1</td>\n",
       "      <td>1.20</td>\n",
       "      <td>Ideal</td>\n",
       "      <td>J</td>\n",
       "      <td>VS1</td>\n",
       "      <td>61.0</td>\n",
       "      <td>57.0</td>\n",
       "      <td>6.81</td>\n",
       "      <td>6.89</td>\n",
       "      <td>4.18</td>\n",
       "    </tr>\n",
       "    <tr>\n",
       "      <th>2</th>\n",
       "      <td>2</td>\n",
       "      <td>1.57</td>\n",
       "      <td>Premium</td>\n",
       "      <td>H</td>\n",
       "      <td>SI1</td>\n",
       "      <td>62.2</td>\n",
       "      <td>61.0</td>\n",
       "      <td>7.38</td>\n",
       "      <td>7.32</td>\n",
       "      <td>4.57</td>\n",
       "    </tr>\n",
       "    <tr>\n",
       "      <th>3</th>\n",
       "      <td>3</td>\n",
       "      <td>0.90</td>\n",
       "      <td>Very Good</td>\n",
       "      <td>F</td>\n",
       "      <td>SI1</td>\n",
       "      <td>63.8</td>\n",
       "      <td>54.0</td>\n",
       "      <td>6.09</td>\n",
       "      <td>6.13</td>\n",
       "      <td>3.90</td>\n",
       "    </tr>\n",
       "    <tr>\n",
       "      <th>4</th>\n",
       "      <td>4</td>\n",
       "      <td>0.50</td>\n",
       "      <td>Very Good</td>\n",
       "      <td>F</td>\n",
       "      <td>VS1</td>\n",
       "      <td>62.9</td>\n",
       "      <td>58.0</td>\n",
       "      <td>5.05</td>\n",
       "      <td>5.09</td>\n",
       "      <td>3.19</td>\n",
       "    </tr>\n",
       "  </tbody>\n",
       "</table>\n",
       "</div>"
      ],
      "text/plain": [
       "   id  carat        cut color clarity  depth  table     x     y     z\n",
       "0   0   0.79  Very Good     F     SI1   62.7   60.0  5.82  5.89  3.67\n",
       "1   1   1.20      Ideal     J     VS1   61.0   57.0  6.81  6.89  4.18\n",
       "2   2   1.57    Premium     H     SI1   62.2   61.0  7.38  7.32  4.57\n",
       "3   3   0.90  Very Good     F     SI1   63.8   54.0  6.09  6.13  3.90\n",
       "4   4   0.50  Very Good     F     VS1   62.9   58.0  5.05  5.09  3.19"
      ]
     },
     "execution_count": 22,
     "metadata": {},
     "output_type": "execute_result"
    }
   ],
   "source": [
    "diamonds_test = pd.read_csv('../BBDDs/diamonds_test.csv')\n",
    "diamonds_test.head()"
   ]
  },
  {
   "cell_type": "code",
   "execution_count": 23,
   "metadata": {},
   "outputs": [
    {
     "data": {
      "text/html": [
       "<div>\n",
       "<style scoped>\n",
       "    .dataframe tbody tr th:only-of-type {\n",
       "        vertical-align: middle;\n",
       "    }\n",
       "\n",
       "    .dataframe tbody tr th {\n",
       "        vertical-align: top;\n",
       "    }\n",
       "\n",
       "    .dataframe thead th {\n",
       "        text-align: right;\n",
       "    }\n",
       "</style>\n",
       "<table border=\"1\" class=\"dataframe\">\n",
       "  <thead>\n",
       "    <tr style=\"text-align: right;\">\n",
       "      <th></th>\n",
       "      <th>carat</th>\n",
       "      <th>cut</th>\n",
       "      <th>color</th>\n",
       "      <th>clarity</th>\n",
       "      <th>depth</th>\n",
       "      <th>table</th>\n",
       "      <th>price</th>\n",
       "      <th>x</th>\n",
       "      <th>y</th>\n",
       "      <th>z</th>\n",
       "    </tr>\n",
       "  </thead>\n",
       "  <tbody>\n",
       "    <tr>\n",
       "      <th>0</th>\n",
       "      <td>1.21</td>\n",
       "      <td>Premium</td>\n",
       "      <td>J</td>\n",
       "      <td>VS2</td>\n",
       "      <td>62.4</td>\n",
       "      <td>58.0</td>\n",
       "      <td>4268</td>\n",
       "      <td>6.83</td>\n",
       "      <td>6.79</td>\n",
       "      <td>4.25</td>\n",
       "    </tr>\n",
       "    <tr>\n",
       "      <th>1</th>\n",
       "      <td>0.32</td>\n",
       "      <td>Very Good</td>\n",
       "      <td>H</td>\n",
       "      <td>VS2</td>\n",
       "      <td>63.0</td>\n",
       "      <td>57.0</td>\n",
       "      <td>505</td>\n",
       "      <td>4.35</td>\n",
       "      <td>4.38</td>\n",
       "      <td>2.75</td>\n",
       "    </tr>\n",
       "    <tr>\n",
       "      <th>2</th>\n",
       "      <td>0.71</td>\n",
       "      <td>Fair</td>\n",
       "      <td>G</td>\n",
       "      <td>VS1</td>\n",
       "      <td>65.5</td>\n",
       "      <td>55.0</td>\n",
       "      <td>2686</td>\n",
       "      <td>5.62</td>\n",
       "      <td>5.53</td>\n",
       "      <td>3.65</td>\n",
       "    </tr>\n",
       "    <tr>\n",
       "      <th>3</th>\n",
       "      <td>0.41</td>\n",
       "      <td>Good</td>\n",
       "      <td>D</td>\n",
       "      <td>SI1</td>\n",
       "      <td>63.8</td>\n",
       "      <td>56.0</td>\n",
       "      <td>738</td>\n",
       "      <td>4.68</td>\n",
       "      <td>4.72</td>\n",
       "      <td>3.00</td>\n",
       "    </tr>\n",
       "    <tr>\n",
       "      <th>4</th>\n",
       "      <td>1.02</td>\n",
       "      <td>Ideal</td>\n",
       "      <td>G</td>\n",
       "      <td>SI1</td>\n",
       "      <td>60.5</td>\n",
       "      <td>59.0</td>\n",
       "      <td>4882</td>\n",
       "      <td>6.55</td>\n",
       "      <td>6.51</td>\n",
       "      <td>3.95</td>\n",
       "    </tr>\n",
       "  </tbody>\n",
       "</table>\n",
       "</div>"
      ],
      "text/plain": [
       "   carat        cut color clarity  depth  table  price     x     y     z\n",
       "0   1.21    Premium     J     VS2   62.4   58.0   4268  6.83  6.79  4.25\n",
       "1   0.32  Very Good     H     VS2   63.0   57.0    505  4.35  4.38  2.75\n",
       "2   0.71       Fair     G     VS1   65.5   55.0   2686  5.62  5.53  3.65\n",
       "3   0.41       Good     D     SI1   63.8   56.0    738  4.68  4.72  3.00\n",
       "4   1.02      Ideal     G     SI1   60.5   59.0   4882  6.55  6.51  3.95"
      ]
     },
     "execution_count": 23,
     "metadata": {},
     "output_type": "execute_result"
    }
   ],
   "source": [
    "diamonds_train = pd.read_csv('../BBDDs/diamonds_train.csv')\n",
    "diamonds_train.head()"
   ]
  },
  {
   "cell_type": "code",
   "execution_count": 24,
   "metadata": {},
   "outputs": [
    {
     "data": {
      "text/html": [
       "<div>\n",
       "<style scoped>\n",
       "    .dataframe tbody tr th:only-of-type {\n",
       "        vertical-align: middle;\n",
       "    }\n",
       "\n",
       "    .dataframe tbody tr th {\n",
       "        vertical-align: top;\n",
       "    }\n",
       "\n",
       "    .dataframe thead th {\n",
       "        text-align: right;\n",
       "    }\n",
       "</style>\n",
       "<table border=\"1\" class=\"dataframe\">\n",
       "  <thead>\n",
       "    <tr style=\"text-align: right;\">\n",
       "      <th></th>\n",
       "      <th>id</th>\n",
       "      <th>carat</th>\n",
       "      <th>depth</th>\n",
       "      <th>table</th>\n",
       "      <th>x</th>\n",
       "      <th>y</th>\n",
       "      <th>z</th>\n",
       "    </tr>\n",
       "  </thead>\n",
       "  <tbody>\n",
       "    <tr>\n",
       "      <th>count</th>\n",
       "      <td>13485.000000</td>\n",
       "      <td>13485.000000</td>\n",
       "      <td>13485.000000</td>\n",
       "      <td>13485.000000</td>\n",
       "      <td>13485.000000</td>\n",
       "      <td>13485.000000</td>\n",
       "      <td>13485.000000</td>\n",
       "    </tr>\n",
       "    <tr>\n",
       "      <th>mean</th>\n",
       "      <td>6742.000000</td>\n",
       "      <td>0.798642</td>\n",
       "      <td>61.739095</td>\n",
       "      <td>57.490337</td>\n",
       "      <td>5.736454</td>\n",
       "      <td>5.739648</td>\n",
       "      <td>3.543474</td>\n",
       "    </tr>\n",
       "    <tr>\n",
       "      <th>std</th>\n",
       "      <td>3892.928525</td>\n",
       "      <td>0.469399</td>\n",
       "      <td>1.435310</td>\n",
       "      <td>2.237109</td>\n",
       "      <td>1.113671</td>\n",
       "      <td>1.128507</td>\n",
       "      <td>0.731005</td>\n",
       "    </tr>\n",
       "    <tr>\n",
       "      <th>min</th>\n",
       "      <td>0.000000</td>\n",
       "      <td>0.200000</td>\n",
       "      <td>50.800000</td>\n",
       "      <td>51.000000</td>\n",
       "      <td>0.000000</td>\n",
       "      <td>0.000000</td>\n",
       "      <td>0.000000</td>\n",
       "    </tr>\n",
       "    <tr>\n",
       "      <th>25%</th>\n",
       "      <td>3371.000000</td>\n",
       "      <td>0.400000</td>\n",
       "      <td>61.000000</td>\n",
       "      <td>56.000000</td>\n",
       "      <td>4.730000</td>\n",
       "      <td>4.730000</td>\n",
       "      <td>2.920000</td>\n",
       "    </tr>\n",
       "    <tr>\n",
       "      <th>50%</th>\n",
       "      <td>6742.000000</td>\n",
       "      <td>0.700000</td>\n",
       "      <td>61.900000</td>\n",
       "      <td>57.000000</td>\n",
       "      <td>5.700000</td>\n",
       "      <td>5.720000</td>\n",
       "      <td>3.530000</td>\n",
       "    </tr>\n",
       "    <tr>\n",
       "      <th>75%</th>\n",
       "      <td>10113.000000</td>\n",
       "      <td>1.040000</td>\n",
       "      <td>62.500000</td>\n",
       "      <td>59.000000</td>\n",
       "      <td>6.530000</td>\n",
       "      <td>6.530000</td>\n",
       "      <td>4.040000</td>\n",
       "    </tr>\n",
       "    <tr>\n",
       "      <th>max</th>\n",
       "      <td>13484.000000</td>\n",
       "      <td>5.010000</td>\n",
       "      <td>79.000000</td>\n",
       "      <td>73.000000</td>\n",
       "      <td>10.740000</td>\n",
       "      <td>31.800000</td>\n",
       "      <td>31.800000</td>\n",
       "    </tr>\n",
       "  </tbody>\n",
       "</table>\n",
       "</div>"
      ],
      "text/plain": [
       "                 id         carat         depth         table             x  \\\n",
       "count  13485.000000  13485.000000  13485.000000  13485.000000  13485.000000   \n",
       "mean    6742.000000      0.798642     61.739095     57.490337      5.736454   \n",
       "std     3892.928525      0.469399      1.435310      2.237109      1.113671   \n",
       "min        0.000000      0.200000     50.800000     51.000000      0.000000   \n",
       "25%     3371.000000      0.400000     61.000000     56.000000      4.730000   \n",
       "50%     6742.000000      0.700000     61.900000     57.000000      5.700000   \n",
       "75%    10113.000000      1.040000     62.500000     59.000000      6.530000   \n",
       "max    13484.000000      5.010000     79.000000     73.000000     10.740000   \n",
       "\n",
       "                  y             z  \n",
       "count  13485.000000  13485.000000  \n",
       "mean       5.739648      3.543474  \n",
       "std        1.128507      0.731005  \n",
       "min        0.000000      0.000000  \n",
       "25%        4.730000      2.920000  \n",
       "50%        5.720000      3.530000  \n",
       "75%        6.530000      4.040000  \n",
       "max       31.800000     31.800000  "
      ]
     },
     "execution_count": 24,
     "metadata": {},
     "output_type": "execute_result"
    }
   ],
   "source": [
    "diamonds_test.describe()"
   ]
  },
  {
   "cell_type": "code",
   "execution_count": 25,
   "metadata": {},
   "outputs": [
    {
     "name": "stdout",
     "output_type": "stream",
     "text": [
      "<class 'pandas.core.frame.DataFrame'>\n",
      "RangeIndex: 13485 entries, 0 to 13484\n",
      "Data columns (total 10 columns):\n",
      " #   Column   Non-Null Count  Dtype  \n",
      "---  ------   --------------  -----  \n",
      " 0   id       13485 non-null  int64  \n",
      " 1   carat    13485 non-null  float64\n",
      " 2   cut      13485 non-null  object \n",
      " 3   color    13485 non-null  object \n",
      " 4   clarity  13485 non-null  object \n",
      " 5   depth    13485 non-null  float64\n",
      " 6   table    13485 non-null  float64\n",
      " 7   x        13485 non-null  float64\n",
      " 8   y        13485 non-null  float64\n",
      " 9   z        13485 non-null  float64\n",
      "dtypes: float64(6), int64(1), object(3)\n",
      "memory usage: 1.0+ MB\n"
     ]
    }
   ],
   "source": [
    "diamonds_test.info()"
   ]
  },
  {
   "cell_type": "code",
   "execution_count": 26,
   "metadata": {},
   "outputs": [
    {
     "data": {
      "text/html": [
       "<div>\n",
       "<style scoped>\n",
       "    .dataframe tbody tr th:only-of-type {\n",
       "        vertical-align: middle;\n",
       "    }\n",
       "\n",
       "    .dataframe tbody tr th {\n",
       "        vertical-align: top;\n",
       "    }\n",
       "\n",
       "    .dataframe thead th {\n",
       "        text-align: right;\n",
       "    }\n",
       "</style>\n",
       "<table border=\"1\" class=\"dataframe\">\n",
       "  <thead>\n",
       "    <tr style=\"text-align: right;\">\n",
       "      <th></th>\n",
       "      <th>carat</th>\n",
       "      <th>depth</th>\n",
       "      <th>table</th>\n",
       "      <th>price</th>\n",
       "      <th>x</th>\n",
       "      <th>y</th>\n",
       "      <th>z</th>\n",
       "    </tr>\n",
       "  </thead>\n",
       "  <tbody>\n",
       "    <tr>\n",
       "      <th>count</th>\n",
       "      <td>40455.000000</td>\n",
       "      <td>40455.000000</td>\n",
       "      <td>40455.000000</td>\n",
       "      <td>40455.000000</td>\n",
       "      <td>40455.000000</td>\n",
       "      <td>40455.000000</td>\n",
       "      <td>40455.000000</td>\n",
       "    </tr>\n",
       "    <tr>\n",
       "      <th>mean</th>\n",
       "      <td>0.797706</td>\n",
       "      <td>61.752841</td>\n",
       "      <td>57.446133</td>\n",
       "      <td>3928.444469</td>\n",
       "      <td>5.729392</td>\n",
       "      <td>5.732819</td>\n",
       "      <td>3.537154</td>\n",
       "    </tr>\n",
       "    <tr>\n",
       "      <th>std</th>\n",
       "      <td>0.475544</td>\n",
       "      <td>1.431725</td>\n",
       "      <td>2.233535</td>\n",
       "      <td>3992.416147</td>\n",
       "      <td>1.124453</td>\n",
       "      <td>1.146650</td>\n",
       "      <td>0.697062</td>\n",
       "    </tr>\n",
       "    <tr>\n",
       "      <th>min</th>\n",
       "      <td>0.200000</td>\n",
       "      <td>43.000000</td>\n",
       "      <td>43.000000</td>\n",
       "      <td>326.000000</td>\n",
       "      <td>0.000000</td>\n",
       "      <td>0.000000</td>\n",
       "      <td>0.000000</td>\n",
       "    </tr>\n",
       "    <tr>\n",
       "      <th>25%</th>\n",
       "      <td>0.400000</td>\n",
       "      <td>61.000000</td>\n",
       "      <td>56.000000</td>\n",
       "      <td>945.000000</td>\n",
       "      <td>4.710000</td>\n",
       "      <td>4.720000</td>\n",
       "      <td>2.910000</td>\n",
       "    </tr>\n",
       "    <tr>\n",
       "      <th>50%</th>\n",
       "      <td>0.700000</td>\n",
       "      <td>61.800000</td>\n",
       "      <td>57.000000</td>\n",
       "      <td>2397.000000</td>\n",
       "      <td>5.690000</td>\n",
       "      <td>5.710000</td>\n",
       "      <td>3.520000</td>\n",
       "    </tr>\n",
       "    <tr>\n",
       "      <th>75%</th>\n",
       "      <td>1.040000</td>\n",
       "      <td>62.500000</td>\n",
       "      <td>59.000000</td>\n",
       "      <td>5331.000000</td>\n",
       "      <td>6.540000</td>\n",
       "      <td>6.540000</td>\n",
       "      <td>4.035000</td>\n",
       "    </tr>\n",
       "    <tr>\n",
       "      <th>max</th>\n",
       "      <td>4.500000</td>\n",
       "      <td>79.000000</td>\n",
       "      <td>95.000000</td>\n",
       "      <td>18823.000000</td>\n",
       "      <td>10.230000</td>\n",
       "      <td>58.900000</td>\n",
       "      <td>8.060000</td>\n",
       "    </tr>\n",
       "  </tbody>\n",
       "</table>\n",
       "</div>"
      ],
      "text/plain": [
       "              carat         depth         table         price             x  \\\n",
       "count  40455.000000  40455.000000  40455.000000  40455.000000  40455.000000   \n",
       "mean       0.797706     61.752841     57.446133   3928.444469      5.729392   \n",
       "std        0.475544      1.431725      2.233535   3992.416147      1.124453   \n",
       "min        0.200000     43.000000     43.000000    326.000000      0.000000   \n",
       "25%        0.400000     61.000000     56.000000    945.000000      4.710000   \n",
       "50%        0.700000     61.800000     57.000000   2397.000000      5.690000   \n",
       "75%        1.040000     62.500000     59.000000   5331.000000      6.540000   \n",
       "max        4.500000     79.000000     95.000000  18823.000000     10.230000   \n",
       "\n",
       "                  y             z  \n",
       "count  40455.000000  40455.000000  \n",
       "mean       5.732819      3.537154  \n",
       "std        1.146650      0.697062  \n",
       "min        0.000000      0.000000  \n",
       "25%        4.720000      2.910000  \n",
       "50%        5.710000      3.520000  \n",
       "75%        6.540000      4.035000  \n",
       "max       58.900000      8.060000  "
      ]
     },
     "execution_count": 26,
     "metadata": {},
     "output_type": "execute_result"
    }
   ],
   "source": [
    "diamonds_train.describe()"
   ]
  },
  {
   "cell_type": "code",
   "execution_count": 27,
   "metadata": {},
   "outputs": [
    {
     "name": "stdout",
     "output_type": "stream",
     "text": [
      "<class 'pandas.core.frame.DataFrame'>\n",
      "RangeIndex: 40455 entries, 0 to 40454\n",
      "Data columns (total 10 columns):\n",
      " #   Column   Non-Null Count  Dtype  \n",
      "---  ------   --------------  -----  \n",
      " 0   carat    40455 non-null  float64\n",
      " 1   cut      40455 non-null  object \n",
      " 2   color    40455 non-null  object \n",
      " 3   clarity  40455 non-null  object \n",
      " 4   depth    40455 non-null  float64\n",
      " 5   table    40455 non-null  float64\n",
      " 6   price    40455 non-null  int64  \n",
      " 7   x        40455 non-null  float64\n",
      " 8   y        40455 non-null  float64\n",
      " 9   z        40455 non-null  float64\n",
      "dtypes: float64(6), int64(1), object(3)\n",
      "memory usage: 3.1+ MB\n"
     ]
    }
   ],
   "source": [
    "diamonds_train.info()"
   ]
  },
  {
   "cell_type": "code",
   "execution_count": 28,
   "metadata": {},
   "outputs": [
    {
     "data": {
      "text/plain": [
       "<bound method Series.unique of 0        1.21\n",
       "1        0.32\n",
       "2        0.71\n",
       "3        0.41\n",
       "4        1.02\n",
       "         ... \n",
       "40450    1.34\n",
       "40451    2.02\n",
       "40452    1.01\n",
       "40453    0.33\n",
       "40454    1.24\n",
       "Name: carat, Length: 40455, dtype: float64>"
      ]
     },
     "execution_count": 28,
     "metadata": {},
     "output_type": "execute_result"
    }
   ],
   "source": [
    "#ej. para usar datos\n",
    "diamonds_train['carat'].unique"
   ]
  },
  {
   "cell_type": "code",
   "execution_count": 33,
   "metadata": {},
   "outputs": [
    {
     "data": {
      "text/plain": [
       "<AxesSubplot:xlabel='table', ylabel='Count'>"
      ]
     },
     "execution_count": 33,
     "metadata": {},
     "output_type": "execute_result"
    },
    {
     "data": {
      "image/png": "[encoded data removed]",
      "text/plain": [
       "<Figure size 792x720 with 6 Axes>"
      ]
     },
     "metadata": {
      "needs_background": "light"
     },
     "output_type": "display_data"
    }
   ],
   "source": [
    "f, axes = plt.subplots(3,2, figsize=(11,10))\n",
    "\n",
    "sns.histplot(data=diamonds_test, x = 'carat', bins = 50, ax=axes[0,0])\n",
    "sns.histplot(data=diamonds_test, x = 'cut', ax=axes[0,1])\n",
    "sns.histplot(data=diamonds_test, x = 'color', ax=axes[1,0])\n",
    "sns.histplot(data=diamonds_test, x = 'clarity', ax=axes[1,1])\n",
    "sns.histplot(data=diamonds_test, x = 'depth', bins = 50, ax=axes[2,0])\n",
    "sns.histplot(data=diamonds_test, x = 'table', bins = 50, ax=axes[2,1])"
   ]
  },
  {
   "cell_type": "code",
   "execution_count": 30,
   "metadata": {},
   "outputs": [
    {
     "data": {
      "text/html": [
       "<style  type=\"text/css\" >\n",
       "    #T_76e05a42_b61d_11eb_a29e_367dda821961row0_col0 {\n",
       "            background-color:  #b40426;\n",
       "            color:  #f1f1f1;\n",
       "        }    #T_76e05a42_b61d_11eb_a29e_367dda821961row0_col1 {\n",
       "            background-color:  #3b4cc0;\n",
       "            color:  #f1f1f1;\n",
       "        }    #T_76e05a42_b61d_11eb_a29e_367dda821961row0_col2 {\n",
       "            background-color:  #86a9fc;\n",
       "            color:  #000000;\n",
       "        }    #T_76e05a42_b61d_11eb_a29e_367dda821961row0_col3 {\n",
       "            background-color:  #88abfd;\n",
       "            color:  #000000;\n",
       "        }    #T_76e05a42_b61d_11eb_a29e_367dda821961row0_col4 {\n",
       "            background-color:  #4055c8;\n",
       "            color:  #f1f1f1;\n",
       "        }    #T_76e05a42_b61d_11eb_a29e_367dda821961row0_col5 {\n",
       "            background-color:  #4055c8;\n",
       "            color:  #f1f1f1;\n",
       "        }    #T_76e05a42_b61d_11eb_a29e_367dda821961row0_col6 {\n",
       "            background-color:  #3b4cc0;\n",
       "            color:  #f1f1f1;\n",
       "        }    #T_76e05a42_b61d_11eb_a29e_367dda821961row1_col0 {\n",
       "            background-color:  #3b4cc0;\n",
       "            color:  #f1f1f1;\n",
       "        }    #T_76e05a42_b61d_11eb_a29e_367dda821961row1_col1 {\n",
       "            background-color:  #b40426;\n",
       "            color:  #f1f1f1;\n",
       "        }    #T_76e05a42_b61d_11eb_a29e_367dda821961row1_col2 {\n",
       "            background-color:  #90b2fe;\n",
       "            color:  #000000;\n",
       "        }    #T_76e05a42_b61d_11eb_a29e_367dda821961row1_col3 {\n",
       "            background-color:  #b6cefa;\n",
       "            color:  #000000;\n",
       "        }    #T_76e05a42_b61d_11eb_a29e_367dda821961row1_col4 {\n",
       "            background-color:  #bd1f2d;\n",
       "            color:  #f1f1f1;\n",
       "        }    #T_76e05a42_b61d_11eb_a29e_367dda821961row1_col5 {\n",
       "            background-color:  #c53334;\n",
       "            color:  #f1f1f1;\n",
       "        }    #T_76e05a42_b61d_11eb_a29e_367dda821961row1_col6 {\n",
       "            background-color:  #d24b40;\n",
       "            color:  #f1f1f1;\n",
       "        }    #T_76e05a42_b61d_11eb_a29e_367dda821961row2_col0 {\n",
       "            background-color:  #3b4cc0;\n",
       "            color:  #f1f1f1;\n",
       "        }    #T_76e05a42_b61d_11eb_a29e_367dda821961row2_col1 {\n",
       "            background-color:  #455cce;\n",
       "            color:  #f1f1f1;\n",
       "        }    #T_76e05a42_b61d_11eb_a29e_367dda821961row2_col2 {\n",
       "            background-color:  #b40426;\n",
       "            color:  #f1f1f1;\n",
       "        }    #T_76e05a42_b61d_11eb_a29e_367dda821961row2_col3 {\n",
       "            background-color:  #3b4cc0;\n",
       "            color:  #f1f1f1;\n",
       "        }    #T_76e05a42_b61d_11eb_a29e_367dda821961row2_col4 {\n",
       "            background-color:  #3b4cc0;\n",
       "            color:  #f1f1f1;\n",
       "        }    #T_76e05a42_b61d_11eb_a29e_367dda821961row2_col5 {\n",
       "            background-color:  #3b4cc0;\n",
       "            color:  #f1f1f1;\n",
       "        }    #T_76e05a42_b61d_11eb_a29e_367dda821961row2_col6 {\n",
       "            background-color:  #5875e1;\n",
       "            color:  #000000;\n",
       "        }    #T_76e05a42_b61d_11eb_a29e_367dda821961row3_col0 {\n",
       "            background-color:  #3c4ec2;\n",
       "            color:  #f1f1f1;\n",
       "        }    #T_76e05a42_b61d_11eb_a29e_367dda821961row3_col1 {\n",
       "            background-color:  #7396f5;\n",
       "            color:  #000000;\n",
       "        }    #T_76e05a42_b61d_11eb_a29e_367dda821961row3_col2 {\n",
       "            background-color:  #3b4cc0;\n",
       "            color:  #f1f1f1;\n",
       "        }    #T_76e05a42_b61d_11eb_a29e_367dda821961row3_col3 {\n",
       "            background-color:  #b40426;\n",
       "            color:  #f1f1f1;\n",
       "        }    #T_76e05a42_b61d_11eb_a29e_367dda821961row3_col4 {\n",
       "            background-color:  #7ea1fa;\n",
       "            color:  #000000;\n",
       "        }    #T_76e05a42_b61d_11eb_a29e_367dda821961row3_col5 {\n",
       "            background-color:  #7b9ff9;\n",
       "            color:  #000000;\n",
       "        }    #T_76e05a42_b61d_11eb_a29e_367dda821961row3_col6 {\n",
       "            background-color:  #6687ed;\n",
       "            color:  #000000;\n",
       "        }    #T_76e05a42_b61d_11eb_a29e_367dda821961row4_col0 {\n",
       "            background-color:  #3b4cc0;\n",
       "            color:  #f1f1f1;\n",
       "        }    #T_76e05a42_b61d_11eb_a29e_367dda821961row4_col1 {\n",
       "            background-color:  #bd1f2d;\n",
       "            color:  #f1f1f1;\n",
       "        }    #T_76e05a42_b61d_11eb_a29e_367dda821961row4_col2 {\n",
       "            background-color:  #81a4fb;\n",
       "            color:  #000000;\n",
       "        }    #T_76e05a42_b61d_11eb_a29e_367dda821961row4_col3 {\n",
       "            background-color:  #bad0f8;\n",
       "            color:  #000000;\n",
       "        }    #T_76e05a42_b61d_11eb_a29e_367dda821961row4_col4 {\n",
       "            background-color:  #b40426;\n",
       "            color:  #f1f1f1;\n",
       "        }    #T_76e05a42_b61d_11eb_a29e_367dda821961row4_col5 {\n",
       "            background-color:  #bb1b2c;\n",
       "            color:  #f1f1f1;\n",
       "        }    #T_76e05a42_b61d_11eb_a29e_367dda821961row4_col6 {\n",
       "            background-color:  #cc403a;\n",
       "            color:  #f1f1f1;\n",
       "        }    #T_76e05a42_b61d_11eb_a29e_367dda821961row5_col0 {\n",
       "            background-color:  #3b4cc0;\n",
       "            color:  #f1f1f1;\n",
       "        }    #T_76e05a42_b61d_11eb_a29e_367dda821961row5_col1 {\n",
       "            background-color:  #c53334;\n",
       "            color:  #f1f1f1;\n",
       "        }    #T_76e05a42_b61d_11eb_a29e_367dda821961row5_col2 {\n",
       "            background-color:  #80a3fa;\n",
       "            color:  #000000;\n",
       "        }    #T_76e05a42_b61d_11eb_a29e_367dda821961row5_col3 {\n",
       "            background-color:  #b7cff9;\n",
       "            color:  #000000;\n",
       "        }    #T_76e05a42_b61d_11eb_a29e_367dda821961row5_col4 {\n",
       "            background-color:  #bb1b2c;\n",
       "            color:  #f1f1f1;\n",
       "        }    #T_76e05a42_b61d_11eb_a29e_367dda821961row5_col5 {\n",
       "            background-color:  #b40426;\n",
       "            color:  #f1f1f1;\n",
       "        }    #T_76e05a42_b61d_11eb_a29e_367dda821961row5_col6 {\n",
       "            background-color:  #d1493f;\n",
       "            color:  #f1f1f1;\n",
       "        }    #T_76e05a42_b61d_11eb_a29e_367dda821961row6_col0 {\n",
       "            background-color:  #3b4cc0;\n",
       "            color:  #f1f1f1;\n",
       "        }    #T_76e05a42_b61d_11eb_a29e_367dda821961row6_col1 {\n",
       "            background-color:  #d24b40;\n",
       "            color:  #f1f1f1;\n",
       "        }    #T_76e05a42_b61d_11eb_a29e_367dda821961row6_col2 {\n",
       "            background-color:  #a1c0ff;\n",
       "            color:  #000000;\n",
       "        }    #T_76e05a42_b61d_11eb_a29e_367dda821961row6_col3 {\n",
       "            background-color:  #abc8fd;\n",
       "            color:  #000000;\n",
       "        }    #T_76e05a42_b61d_11eb_a29e_367dda821961row6_col4 {\n",
       "            background-color:  #cc403a;\n",
       "            color:  #f1f1f1;\n",
       "        }    #T_76e05a42_b61d_11eb_a29e_367dda821961row6_col5 {\n",
       "            background-color:  #d0473d;\n",
       "            color:  #f1f1f1;\n",
       "        }    #T_76e05a42_b61d_11eb_a29e_367dda821961row6_col6 {\n",
       "            background-color:  #b40426;\n",
       "            color:  #f1f1f1;\n",
       "        }</style><table id=\"T_76e05a42_b61d_11eb_a29e_367dda821961\" ><thead>    <tr>        <th class=\"blank level0\" ></th>        <th class=\"col_heading level0 col0\" >id</th>        <th class=\"col_heading level0 col1\" >carat</th>        <th class=\"col_heading level0 col2\" >depth</th>        <th class=\"col_heading level0 col3\" >table</th>        <th class=\"col_heading level0 col4\" >x</th>        <th class=\"col_heading level0 col5\" >y</th>        <th class=\"col_heading level0 col6\" >z</th>    </tr></thead><tbody>\n",
       "                <tr>\n",
       "                        <th id=\"T_76e05a42_b61d_11eb_a29e_367dda821961level0_row0\" class=\"row_heading level0 row0\" >id</th>\n",
       "                        <td id=\"T_76e05a42_b61d_11eb_a29e_367dda821961row0_col0\" class=\"data row0 col0\" >1.000000</td>\n",
       "                        <td id=\"T_76e05a42_b61d_11eb_a29e_367dda821961row0_col1\" class=\"data row0 col1\" >-0.002578</td>\n",
       "                        <td id=\"T_76e05a42_b61d_11eb_a29e_367dda821961row0_col2\" class=\"data row0 col2\" >-0.002425</td>\n",
       "                        <td id=\"T_76e05a42_b61d_11eb_a29e_367dda821961row0_col3\" class=\"data row0 col3\" >0.004891</td>\n",
       "                        <td id=\"T_76e05a42_b61d_11eb_a29e_367dda821961row0_col4\" class=\"data row0 col4\" >-0.000102</td>\n",
       "                        <td id=\"T_76e05a42_b61d_11eb_a29e_367dda821961row0_col5\" class=\"data row0 col5\" >-0.002206</td>\n",
       "                        <td id=\"T_76e05a42_b61d_11eb_a29e_367dda821961row0_col6\" class=\"data row0 col6\" >0.000456</td>\n",
       "            </tr>\n",
       "            <tr>\n",
       "                        <th id=\"T_76e05a42_b61d_11eb_a29e_367dda821961level0_row1\" class=\"row_heading level0 row1\" >carat</th>\n",
       "                        <td id=\"T_76e05a42_b61d_11eb_a29e_367dda821961row1_col0\" class=\"data row1 col0\" >-0.002578</td>\n",
       "                        <td id=\"T_76e05a42_b61d_11eb_a29e_367dda821961row1_col1\" class=\"data row1 col1\" >1.000000</td>\n",
       "                        <td id=\"T_76e05a42_b61d_11eb_a29e_367dda821961row1_col2\" class=\"data row1 col2\" >0.033385</td>\n",
       "                        <td id=\"T_76e05a42_b61d_11eb_a29e_367dda821961row1_col3\" class=\"data row1 col3\" >0.176245</td>\n",
       "                        <td id=\"T_76e05a42_b61d_11eb_a29e_367dda821961row1_col4\" class=\"data row1 col4\" >0.973283</td>\n",
       "                        <td id=\"T_76e05a42_b61d_11eb_a29e_367dda821961row1_col5\" class=\"data row1 col5\" >0.951900</td>\n",
       "                        <td id=\"T_76e05a42_b61d_11eb_a29e_367dda821961row1_col6\" class=\"data row1 col6\" >0.913598</td>\n",
       "            </tr>\n",
       "            <tr>\n",
       "                        <th id=\"T_76e05a42_b61d_11eb_a29e_367dda821961level0_row2\" class=\"row_heading level0 row2\" >depth</th>\n",
       "                        <td id=\"T_76e05a42_b61d_11eb_a29e_367dda821961row2_col0\" class=\"data row2 col0\" >-0.002425</td>\n",
       "                        <td id=\"T_76e05a42_b61d_11eb_a29e_367dda821961row2_col1\" class=\"data row2 col1\" >0.033385</td>\n",
       "                        <td id=\"T_76e05a42_b61d_11eb_a29e_367dda821961row2_col2\" class=\"data row2 col2\" >1.000000</td>\n",
       "                        <td id=\"T_76e05a42_b61d_11eb_a29e_367dda821961row2_col3\" class=\"data row2 col3\" >-0.303653</td>\n",
       "                        <td id=\"T_76e05a42_b61d_11eb_a29e_367dda821961row2_col4\" class=\"data row2 col4\" >-0.022049</td>\n",
       "                        <td id=\"T_76e05a42_b61d_11eb_a29e_367dda821961row2_col5\" class=\"data row2 col5\" >-0.024359</td>\n",
       "                        <td id=\"T_76e05a42_b61d_11eb_a29e_367dda821961row2_col6\" class=\"data row2 col6\" >0.095831</td>\n",
       "            </tr>\n",
       "            <tr>\n",
       "                        <th id=\"T_76e05a42_b61d_11eb_a29e_367dda821961level0_row3\" class=\"row_heading level0 row3\" >table</th>\n",
       "                        <td id=\"T_76e05a42_b61d_11eb_a29e_367dda821961row3_col0\" class=\"data row3 col0\" >0.004891</td>\n",
       "                        <td id=\"T_76e05a42_b61d_11eb_a29e_367dda821961row3_col1\" class=\"data row3 col1\" >0.176245</td>\n",
       "                        <td id=\"T_76e05a42_b61d_11eb_a29e_367dda821961row3_col2\" class=\"data row3 col2\" >-0.303653</td>\n",
       "                        <td id=\"T_76e05a42_b61d_11eb_a29e_367dda821961row3_col3\" class=\"data row3 col3\" >1.000000</td>\n",
       "                        <td id=\"T_76e05a42_b61d_11eb_a29e_367dda821961row3_col4\" class=\"data row3 col4\" >0.193130</td>\n",
       "                        <td id=\"T_76e05a42_b61d_11eb_a29e_367dda821961row3_col5\" class=\"data row3 col5\" >0.180943</td>\n",
       "                        <td id=\"T_76e05a42_b61d_11eb_a29e_367dda821961row3_col6\" class=\"data row3 col6\" >0.138777</td>\n",
       "            </tr>\n",
       "            <tr>\n",
       "                        <th id=\"T_76e05a42_b61d_11eb_a29e_367dda821961level0_row4\" class=\"row_heading level0 row4\" >x</th>\n",
       "                        <td id=\"T_76e05a42_b61d_11eb_a29e_367dda821961row4_col0\" class=\"data row4 col0\" >-0.000102</td>\n",
       "                        <td id=\"T_76e05a42_b61d_11eb_a29e_367dda821961row4_col1\" class=\"data row4 col1\" >0.973283</td>\n",
       "                        <td id=\"T_76e05a42_b61d_11eb_a29e_367dda821961row4_col2\" class=\"data row4 col2\" >-0.022049</td>\n",
       "                        <td id=\"T_76e05a42_b61d_11eb_a29e_367dda821961row4_col3\" class=\"data row4 col3\" >0.193130</td>\n",
       "                        <td id=\"T_76e05a42_b61d_11eb_a29e_367dda821961row4_col4\" class=\"data row4 col4\" >1.000000</td>\n",
       "                        <td id=\"T_76e05a42_b61d_11eb_a29e_367dda821961row4_col5\" class=\"data row4 col5\" >0.977762</td>\n",
       "                        <td id=\"T_76e05a42_b61d_11eb_a29e_367dda821961row4_col6\" class=\"data row4 col6\" >0.931211</td>\n",
       "            </tr>\n",
       "            <tr>\n",
       "                        <th id=\"T_76e05a42_b61d_11eb_a29e_367dda821961level0_row5\" class=\"row_heading level0 row5\" >y</th>\n",
       "                        <td id=\"T_76e05a42_b61d_11eb_a29e_367dda821961row5_col0\" class=\"data row5 col0\" >-0.002206</td>\n",
       "                        <td id=\"T_76e05a42_b61d_11eb_a29e_367dda821961row5_col1\" class=\"data row5 col1\" >0.951900</td>\n",
       "                        <td id=\"T_76e05a42_b61d_11eb_a29e_367dda821961row5_col2\" class=\"data row5 col2\" >-0.024359</td>\n",
       "                        <td id=\"T_76e05a42_b61d_11eb_a29e_367dda821961row5_col3\" class=\"data row5 col3\" >0.180943</td>\n",
       "                        <td id=\"T_76e05a42_b61d_11eb_a29e_367dda821961row5_col4\" class=\"data row5 col4\" >0.977762</td>\n",
       "                        <td id=\"T_76e05a42_b61d_11eb_a29e_367dda821961row5_col5\" class=\"data row5 col5\" >1.000000</td>\n",
       "                        <td id=\"T_76e05a42_b61d_11eb_a29e_367dda821961row5_col6\" class=\"data row5 col6\" >0.916161</td>\n",
       "            </tr>\n",
       "            <tr>\n",
       "                        <th id=\"T_76e05a42_b61d_11eb_a29e_367dda821961level0_row6\" class=\"row_heading level0 row6\" >z</th>\n",
       "                        <td id=\"T_76e05a42_b61d_11eb_a29e_367dda821961row6_col0\" class=\"data row6 col0\" >0.000456</td>\n",
       "                        <td id=\"T_76e05a42_b61d_11eb_a29e_367dda821961row6_col1\" class=\"data row6 col1\" >0.913598</td>\n",
       "                        <td id=\"T_76e05a42_b61d_11eb_a29e_367dda821961row6_col2\" class=\"data row6 col2\" >0.095831</td>\n",
       "                        <td id=\"T_76e05a42_b61d_11eb_a29e_367dda821961row6_col3\" class=\"data row6 col3\" >0.138777</td>\n",
       "                        <td id=\"T_76e05a42_b61d_11eb_a29e_367dda821961row6_col4\" class=\"data row6 col4\" >0.931211</td>\n",
       "                        <td id=\"T_76e05a42_b61d_11eb_a29e_367dda821961row6_col5\" class=\"data row6 col5\" >0.916161</td>\n",
       "                        <td id=\"T_76e05a42_b61d_11eb_a29e_367dda821961row6_col6\" class=\"data row6 col6\" >1.000000</td>\n",
       "            </tr>\n",
       "    </tbody></table>"
      ],
      "text/plain": [
       "<pandas.io.formats.style.Styler at 0x7f9c36264520>"
      ]
     },
     "execution_count": 30,
     "metadata": {},
     "output_type": "execute_result"
    }
   ],
   "source": [
    "corr = diamonds_test.corr()\n",
    "corr.style.background_gradient(cmap='coolwarm')"
   ]
  },
  {
   "cell_type": "code",
   "execution_count": 37,
   "metadata": {},
   "outputs": [
    {
     "data": {
      "application/vnd.plotly.v1+json": {
       "config": {
        "plotlyServerURL": "https://plot.ly"
       },
       "data": [
        {
         "alignmentgroup": "True",
         "hovertemplate": "carat=%{x}<br>price=%{y}<extra></extra>",
         "legendgroup": "",
         "marker": {
          "color": "#636efa"
         },
         "name": "",
         "offsetgroup": "",
         "orientation": "v",
         "showlegend": false,
         "textposition": "auto",
         "type": "bar",
         "x": [
          0.2,
          0.21,
          0.22,
          0.23,
          0.24,
          0.26,
          0.25,
          0.27,
          0.28,
          0.29,
          0.3,
          0.31,
          0.32,
          0.34,
          0.33,
          0.36,
          0.35,
          0.37,
          0.38,
          0.39,
          0.4,
          0.41,
          0.42,
          0.43,
          0.44,
          0.45,
          0.46,
          0.49,
          0.47,
          0.48,
          0.5,
          0.51,
          0.52,
          0.53,
          0.54,
          0.55,
          0.57,
          0.58,
          0.56,
          0.59,
          0.62,
          0.6,
          0.67,
          0.61,
          0.64,
          0.63,
          0.69,
          0.66,
          0.65,
          0.68,
          0.7,
          0.71,
          0.72,
          0.75,
          0.74,
          0.73,
          0.76,
          0.77,
          0.79,
          0.78,
          0.81,
          0.82,
          0.8,
          0.85,
          0.83,
          0.84,
          0.86,
          0.87,
          0.89,
          0.98,
          0.88,
          0.96,
          0.9,
          0.93,
          0.91,
          0.92,
          0.95,
          0.97,
          0.94,
          0.99,
          1,
          1.01,
          1.03,
          1.02,
          1.08,
          1.04,
          1.96,
          1.05,
          1.1,
          1.12,
          1.15,
          1.09,
          1.07,
          1.06,
          1.11,
          1.13,
          1.16,
          1.17,
          1.14,
          1.18,
          1.19,
          1.2,
          1.21,
          1.27,
          1.22,
          1.44,
          1.25,
          1.29,
          1.24,
          1.23,
          1.35,
          1.26,
          1.48,
          1.47,
          1.32,
          1.31,
          1.28,
          1.33,
          1.3,
          1.46,
          1.39,
          1.34,
          1.38,
          1.37,
          1.36,
          1.45,
          2.74,
          1.4,
          2.68,
          1.43,
          1.41,
          1.49,
          3.11,
          2.34,
          1.56,
          1.85,
          1.5,
          1.42,
          1.65,
          2.77,
          1.57,
          3.05,
          1.66,
          3.02,
          1.51,
          1.52,
          1.53,
          1.64,
          1.61,
          1.54,
          1.55,
          1.81,
          1.59,
          1.88,
          1.6,
          1.84,
          1.77,
          1.58,
          1.63,
          1.73,
          1.62,
          1.94,
          1.71,
          1.67,
          1.74,
          1.72,
          1.69,
          1.7,
          1.68,
          1.83,
          3.24,
          1.75,
          1.95,
          1.76,
          1.9,
          3.22,
          3.5,
          2.63,
          1.8,
          1.78,
          3,
          1.82,
          1.91,
          1.87,
          1.86,
          1.79,
          2.27,
          2.49,
          2.22,
          2,
          2.17,
          2.33,
          1.99,
          2.1,
          2.11,
          2.25,
          2.75,
          2.5,
          2.7,
          2.58,
          2.15,
          2.06,
          2.03,
          2.23,
          1.98,
          2.72,
          2.02,
          2.04,
          2.01,
          2.14,
          2.08,
          2.19,
          2.26,
          2.31,
          4.01,
          2.18,
          2.54,
          2.38,
          2.2,
          2.09,
          2.07,
          2.3,
          2.43,
          2.13,
          1.92,
          2.05,
          2.29,
          2.21,
          3.01,
          2.47,
          2.28,
          2.12,
          2.16,
          2.41,
          2.24,
          3.4,
          4,
          2.32,
          2.35,
          2.46,
          2.36,
          2.66,
          2.61,
          2.52,
          2.65,
          2.44,
          2.53,
          2.51,
          2.59,
          2.48,
          2.55,
          1.89,
          2.37,
          2.4,
          2.56,
          2.8,
          2.42,
          2.6,
          2.39,
          2.71,
          4.13,
          2.45,
          2.64,
          1.97,
          2.57,
          1.93,
          4.5,
          3.04,
          2.67,
          3.51
         ],
         "xaxis": "x",
         "y": [
          363.3333333333333,
          380.22222222222223,
          391.4,
          487.2616822429907,
          506.77837837837836,
          548.4895833333334,
          548.9090909090909,
          573.7102272727273,
          576.4353741496599,
          609.6808510638298,
          676.5590471363406,
          709.3110075713454,
          721.0652329749104,
          756.8079877112135,
          766.9793253536453,
          781.6993006993007,
          794.138832997988,
          822.5152542372881,
          898.78515625,
          921.1176470588235,
          933.9107505070994,
          976.576171875,
          996.7214022140222,
          999.4465240641712,
          1069.075,
          1069.873417721519,
          1233.9424460431655,
          1270.142857142857,
          1273.9014084507041,
          1347.4888888888888,
          1503.633909287257,
          1616.394117647059,
          1659.3976510067114,
          1667.7875939849623,
          1705.4979079497907,
          1732.6134020618556,
          1790.3555555555556,
          1804.567901234568,
          1812.1495844875346,
          1836.5129310344828,
          1955,
          1989.3354037267081,
          2064.657894736842,
          2097.090277777778,
          2149.883333333333,
          2206.6315789473683,
          2252.4736842105262,
          2323.6875,
          2385.725490196078,
          2464.315789473684,
          2522.136834830684,
          2683.121243523316,
          2714.8728222996515,
          2735.441988950276,
          2820.858974358974,
          2826.4187327823693,
          2863.318918918919,
          2863.5833333333335,
          2941.3032786885246,
          2971.1555555555556,
          3011.6339869281046,
          3078.223300970874,
          3128.688679245283,
          3167.5,
          3213.818181818182,
          3307.408163265306,
          3326.0689655172414,
          3350.55,
          3367.9333333333334,
          3431.625,
          3463.4,
          3649.125,
          3932.806624888093,
          3965.1176470588234,
          3967.4736842105262,
          4017.0886075949365,
          4017.469387755102,
          4082.133333333333,
          4223.0888888888885,
          4310.333333333333,
          5218.039301310044,
          5489.654974123059,
          5580.495934959349,
          5616.202127659574,
          5749,
          5776.026011560693,
          5850.5,
          5860.2962962962965,
          5898.774647887324,
          5950.436170212766,
          5953.75652173913,
          5960.095454545454,
          6042.384937238494,
          6050.904593639576,
          6059.254310344828,
          6177.978142076503,
          6192.564885496183,
          6219.113636363636,
          6250.676470588235,
          6474.471910112359,
          6483.958333333333,
          6649.022132796781,
          6822.8216374269,
          6883.677083333333,
          6967.41628959276,
          6999.416666666667,
          7081.253623188406,
          7135.533333333334,
          7184.771929824561,
          7350.464454976303,
          7378.65,
          7500.717171717171,
          7512,
          7556.454545454545,
          7569.806451612903,
          7658.817307692308,
          7705.935064935065,
          7738.476190476191,
          7751.1,
          7762.538461538462,
          8022.896551724138,
          8029.56,
          8295.29411764706,
          8405.25,
          8664.411764705883,
          8806.7,
          8807,
          8942.51282051282,
          9042,
          9356.57142857143,
          9741.357142857143,
          9813,
          9823,
          9856,
          10009.784810126583,
          10031.5,
          10038.735785953177,
          10049.375,
          10349.72,
          10424,
          10447.878048780487,
          10453,
          10526.894736842105,
          10577,
          10584.816831683169,
          10598.052083333334,
          10638.823529411764,
          10696.911764705883,
          10773.1,
          10809.031007751939,
          10810.10465116279,
          10813.166666666666,
          10877.666666666666,
          10946.25,
          11034.463768115942,
          11108.5,
          11415.692307692309,
          11444.728571428572,
          11471.763157894737,
          11688.763157894737,
          11865.288888888888,
          11916.5,
          12010.978494623656,
          12013.75,
          12020.242424242424,
          12039.704545454546,
          12057.894736842105,
          12088.846625766872,
          12132.461538461539,
          12169.9375,
          12300,
          12307.533333333333,
          12340.666666666666,
          12387.869565217392,
          12444.8,
          12545,
          12587,
          12659.666666666666,
          12679.2,
          12720.125,
          12828.75,
          12917.25,
          12919.375,
          13024.4,
          13134,
          13399.545454545454,
          13744.9,
          13843,
          13854.65,
          13891.539603960397,
          13905,
          14089.777777777777,
          14179,
          14188.131578947368,
          14246.142857142857,
          14266.266666666666,
          14285.5,
          14288.8,
          14341,
          14347.5,
          14445.722222222223,
          14479.854166666666,
          14529.434782608696,
          14580,
          14689.5,
          14697.5,
          14751.720930232557,
          14783.074626865671,
          14822.888554216868,
          14838.658536585366,
          14926.382352941177,
          14958.722222222223,
          14981.636363636364,
          15159.727272727272,
          15223,
          15246.56,
          15261.333333333334,
          15315.42857142857,
          15316.333333333334,
          15325.933333333332,
          15329.857142857143,
          15353.384615384615,
          15356,
          15379.277777777777,
          15418,
          15443.384615384615,
          15449.76923076923,
          15470.8125,
          15482.666666666666,
          15644,
          15646.875,
          15675.777777777777,
          15744.947368421053,
          15808.2,
          15855,
          15964,
          15984,
          15996.5,
          16090.42857142857,
          16105.5,
          16115,
          16239,
          16270,
          16307.714285714286,
          16314,
          16365.5,
          16374.6,
          16392.64285714286,
          16465,
          16501.75,
          16558.5,
          16573.5,
          16595,
          16665.444444444445,
          16723.333333333332,
          16909,
          16924.166666666668,
          17118,
          17121.25,
          17146,
          17329,
          17351,
          17407,
          17456,
          17841.666666666668,
          17884.666666666668,
          18531,
          18559,
          18686,
          18701
         ],
         "yaxis": "y"
        }
       ],
       "layout": {
        "barmode": "relative",
        "legend": {
         "tracegroupgap": 0
        },
        "margin": {
         "t": 60
        },
        "template": {
         "data": {
          "bar": [
           {
            "error_x": {
             "color": "#2a3f5f"
            },
            "error_y": {
             "color": "#2a3f5f"
            },
            "marker": {
             "line": {
              "color": "#E5ECF6",
              "width": 0.5
             }
            },
            "type": "bar"
           }
          ],
          "barpolar": [
           {
            "marker": {
             "line": {
              "color": "#E5ECF6",
              "width": 0.5
             }
            },
            "type": "barpolar"
           }
          ],
          "carpet": [
           {
            "aaxis": {
             "endlinecolor": "#2a3f5f",
             "gridcolor": "white",
             "linecolor": "white",
             "minorgridcolor": "white",
             "startlinecolor": "#2a3f5f"
            },
            "baxis": {
             "endlinecolor": "#2a3f5f",
             "gridcolor": "white",
             "linecolor": "white",
             "minorgridcolor": "white",
             "startlinecolor": "#2a3f5f"
            },
            "type": "carpet"
           }
          ],
          "choropleth": [
           {
            "colorbar": {
             "outlinewidth": 0,
             "ticks": ""
            },
            "type": "choropleth"
           }
          ],
          "contour": [
           {
            "colorbar": {
             "outlinewidth": 0,
             "ticks": ""
            },
            "colorscale": [
             [
              0,
              "#0d0887"
             ],
             [
              0.1111111111111111,
              "#46039f"
             ],
             [
              0.2222222222222222,
              "#7201a8"
             ],
             [
              0.3333333333333333,
              "#9c179e"
             ],
             [
              0.4444444444444444,
              "#bd3786"
             ],
             [
              0.5555555555555556,
              "#d8576b"
             ],
             [
              0.6666666666666666,
              "#ed7953"
             ],
             [
              0.7777777777777778,
              "#fb9f3a"
             ],
             [
              0.8888888888888888,
              "#fdca26"
             ],
             [
              1,
              "#f0f921"
             ]
            ],
            "type": "contour"
           }
          ],
          "contourcarpet": [
           {
            "colorbar": {
             "outlinewidth": 0,
             "ticks": ""
            },
            "type": "contourcarpet"
           }
          ],
          "heatmap": [
           {
            "colorbar": {
             "outlinewidth": 0,
             "ticks": ""
            },
            "colorscale": [
             [
              0,
              "#0d0887"
             ],
             [
              0.1111111111111111,
              "#46039f"
             ],
             [
              0.2222222222222222,
              "#7201a8"
             ],
             [
              0.3333333333333333,
              "#9c179e"
             ],
             [
              0.4444444444444444,
              "#bd3786"
             ],
             [
              0.5555555555555556,
              "#d8576b"
             ],
             [
              0.6666666666666666,
              "#ed7953"
             ],
             [
              0.7777777777777778,
              "#fb9f3a"
             ],
             [
              0.8888888888888888,
              "#fdca26"
             ],
             [
              1,
              "#f0f921"
             ]
            ],
            "type": "heatmap"
           }
          ],
          "heatmapgl": [
           {
            "colorbar": {
             "outlinewidth": 0,
             "ticks": ""
            },
            "colorscale": [
             [
              0,
              "#0d0887"
             ],
             [
              0.1111111111111111,
              "#46039f"
             ],
             [
              0.2222222222222222,
              "#7201a8"
             ],
             [
              0.3333333333333333,
              "#9c179e"
             ],
             [
              0.4444444444444444,
              "#bd3786"
             ],
             [
              0.5555555555555556,
              "#d8576b"
             ],
             [
              0.6666666666666666,
              "#ed7953"
             ],
             [
              0.7777777777777778,
              "#fb9f3a"
             ],
             [
              0.8888888888888888,
              "#fdca26"
             ],
             [
              1,
              "#f0f921"
             ]
            ],
            "type": "heatmapgl"
           }
          ],
          "histogram": [
           {
            "marker": {
             "colorbar": {
              "outlinewidth": 0,
              "ticks": ""
             }
            },
            "type": "histogram"
           }
          ],
          "histogram2d": [
           {
            "colorbar": {
             "outlinewidth": 0,
             "ticks": ""
            },
            "colorscale": [
             [
              0,
              "#0d0887"
             ],
             [
              0.1111111111111111,
              "#46039f"
             ],
             [
              0.2222222222222222,
              "#7201a8"
             ],
             [
              0.3333333333333333,
              "#9c179e"
             ],
             [
              0.4444444444444444,
              "#bd3786"
             ],
             [
              0.5555555555555556,
              "#d8576b"
             ],
             [
              0.6666666666666666,
              "#ed7953"
             ],
             [
              0.7777777777777778,
              "#fb9f3a"
             ],
             [
              0.8888888888888888,
              "#fdca26"
             ],
             [
              1,
              "#f0f921"
             ]
            ],
            "type": "histogram2d"
           }
          ],
          "histogram2dcontour": [
           {
            "colorbar": {
             "outlinewidth": 0,
             "ticks": ""
            },
            "colorscale": [
             [
              0,
              "#0d0887"
             ],
             [
              0.1111111111111111,
              "#46039f"
             ],
             [
              0.2222222222222222,
              "#7201a8"
             ],
             [
              0.3333333333333333,
              "#9c179e"
             ],
             [
              0.4444444444444444,
              "#bd3786"
             ],
             [
              0.5555555555555556,
              "#d8576b"
             ],
             [
              0.6666666666666666,
              "#ed7953"
             ],
             [
              0.7777777777777778,
              "#fb9f3a"
             ],
             [
              0.8888888888888888,
              "#fdca26"
             ],
             [
              1,
              "#f0f921"
             ]
            ],
            "type": "histogram2dcontour"
           }
          ],
          "mesh3d": [
           {
            "colorbar": {
             "outlinewidth": 0,
             "ticks": ""
            },
            "type": "mesh3d"
           }
          ],
          "parcoords": [
           {
            "line": {
             "colorbar": {
              "outlinewidth": 0,
              "ticks": ""
             }
            },
            "type": "parcoords"
           }
          ],
          "pie": [
           {
            "automargin": true,
            "type": "pie"
           }
          ],
          "scatter": [
           {
            "marker": {
             "colorbar": {
              "outlinewidth": 0,
              "ticks": ""
             }
            },
            "type": "scatter"
           }
          ],
          "scatter3d": [
           {
            "line": {
             "colorbar": {
              "outlinewidth": 0,
              "ticks": ""
             }
            },
            "marker": {
             "colorbar": {
              "outlinewidth": 0,
              "ticks": ""
             }
            },
            "type": "scatter3d"
           }
          ],
          "scattercarpet": [
           {
            "marker": {
             "colorbar": {
              "outlinewidth": 0,
              "ticks": ""
             }
            },
            "type": "scattercarpet"
           }
          ],
          "scattergeo": [
           {
            "marker": {
             "colorbar": {
              "outlinewidth": 0,
              "ticks": ""
             }
            },
            "type": "scattergeo"
           }
          ],
          "scattergl": [
           {
            "marker": {
             "colorbar": {
              "outlinewidth": 0,
              "ticks": ""
             }
            },
            "type": "scattergl"
           }
          ],
          "scattermapbox": [
           {
            "marker": {
             "colorbar": {
              "outlinewidth": 0,
              "ticks": ""
             }
            },
            "type": "scattermapbox"
           }
          ],
          "scatterpolar": [
           {
            "marker": {
             "colorbar": {
              "outlinewidth": 0,
              "ticks": ""
             }
            },
            "type": "scatterpolar"
           }
          ],
          "scatterpolargl": [
           {
            "marker": {
             "colorbar": {
              "outlinewidth": 0,
              "ticks": ""
             }
            },
            "type": "scatterpolargl"
           }
          ],
          "scatterternary": [
           {
            "marker": {
             "colorbar": {
              "outlinewidth": 0,
              "ticks": ""
             }
            },
            "type": "scatterternary"
           }
          ],
          "surface": [
           {
            "colorbar": {
             "outlinewidth": 0,
             "ticks": ""
            },
            "colorscale": [
             [
              0,
              "#0d0887"
             ],
             [
              0.1111111111111111,
              "#46039f"
             ],
             [
              0.2222222222222222,
              "#7201a8"
             ],
             [
              0.3333333333333333,
              "#9c179e"
             ],
             [
              0.4444444444444444,
              "#bd3786"
             ],
             [
              0.5555555555555556,
              "#d8576b"
             ],
             [
              0.6666666666666666,
              "#ed7953"
             ],
             [
              0.7777777777777778,
              "#fb9f3a"
             ],
             [
              0.8888888888888888,
              "#fdca26"
             ],
             [
              1,
              "#f0f921"
             ]
            ],
            "type": "surface"
           }
          ],
          "table": [
           {
            "cells": {
             "fill": {
              "color": "#EBF0F8"
             },
             "line": {
              "color": "white"
             }
            },
            "header": {
             "fill": {
              "color": "#C8D4E3"
             },
             "line": {
              "color": "white"
             }
            },
            "type": "table"
           }
          ]
         },
         "layout": {
          "annotationdefaults": {
           "arrowcolor": "#2a3f5f",
           "arrowhead": 0,
           "arrowwidth": 1
          },
          "autotypenumbers": "strict",
          "coloraxis": {
           "colorbar": {
            "outlinewidth": 0,
            "ticks": ""
           }
          },
          "colorscale": {
           "diverging": [
            [
             0,
             "#8e0152"
            ],
            [
             0.1,
             "#c51b7d"
            ],
            [
             0.2,
             "#de77ae"
            ],
            [
             0.3,
             "#f1b6da"
            ],
            [
             0.4,
             "#fde0ef"
            ],
            [
             0.5,
             "#f7f7f7"
            ],
            [
             0.6,
             "#e6f5d0"
            ],
            [
             0.7,
             "#b8e186"
            ],
            [
             0.8,
             "#7fbc41"
            ],
            [
             0.9,
             "#4d9221"
            ],
            [
             1,
             "#276419"
            ]
           ],
           "sequential": [
            [
             0,
             "#0d0887"
            ],
            [
             0.1111111111111111,
             "#46039f"
            ],
            [
             0.2222222222222222,
             "#7201a8"
            ],
            [
             0.3333333333333333,
             "#9c179e"
            ],
            [
             0.4444444444444444,
             "#bd3786"
            ],
            [
             0.5555555555555556,
             "#d8576b"
            ],
            [
             0.6666666666666666,
             "#ed7953"
            ],
            [
             0.7777777777777778,
             "#fb9f3a"
            ],
            [
             0.8888888888888888,
             "#fdca26"
            ],
            [
             1,
             "#f0f921"
            ]
           ],
           "sequentialminus": [
            [
             0,
             "#0d0887"
            ],
            [
             0.1111111111111111,
             "#46039f"
            ],
            [
             0.2222222222222222,
             "#7201a8"
            ],
            [
             0.3333333333333333,
             "#9c179e"
            ],
            [
             0.4444444444444444,
             "#bd3786"
            ],
            [
             0.5555555555555556,
             "#d8576b"
            ],
            [
             0.6666666666666666,
             "#ed7953"
            ],
            [
             0.7777777777777778,
             "#fb9f3a"
            ],
            [
             0.8888888888888888,
             "#fdca26"
            ],
            [
             1,
             "#f0f921"
            ]
           ]
          },
          "colorway": [
           "#636efa",
           "#EF553B",
           "#00cc96",
           "#ab63fa",
           "#FFA15A",
           "#19d3f3",
           "#FF6692",
           "#B6E880",
           "#FF97FF",
           "#FECB52"
          ],
          "font": {
           "color": "#2a3f5f"
          },
          "geo": {
           "bgcolor": "white",
           "lakecolor": "white",
           "landcolor": "#E5ECF6",
           "showlakes": true,
           "showland": true,
           "subunitcolor": "white"
          },
          "hoverlabel": {
           "align": "left"
          },
          "hovermode": "closest",
          "mapbox": {
           "style": "light"
          },
          "paper_bgcolor": "white",
          "plot_bgcolor": "#E5ECF6",
          "polar": {
           "angularaxis": {
            "gridcolor": "white",
            "linecolor": "white",
            "ticks": ""
           },
           "bgcolor": "#E5ECF6",
           "radialaxis": {
            "gridcolor": "white",
            "linecolor": "white",
            "ticks": ""
           }
          },
          "scene": {
           "xaxis": {
            "backgroundcolor": "#E5ECF6",
            "gridcolor": "white",
            "gridwidth": 2,
            "linecolor": "white",
            "showbackground": true,
            "ticks": "",
            "zerolinecolor": "white"
           },
           "yaxis": {
            "backgroundcolor": "#E5ECF6",
            "gridcolor": "white",
            "gridwidth": 2,
            "linecolor": "white",
            "showbackground": true,
            "ticks": "",
            "zerolinecolor": "white"
           },
           "zaxis": {
            "backgroundcolor": "#E5ECF6",
            "gridcolor": "white",
            "gridwidth": 2,
            "linecolor": "white",
            "showbackground": true,
            "ticks": "",
            "zerolinecolor": "white"
           }
          },
          "shapedefaults": {
           "line": {
            "color": "#2a3f5f"
           }
          },
          "ternary": {
           "aaxis": {
            "gridcolor": "white",
            "linecolor": "white",
            "ticks": ""
           },
           "baxis": {
            "gridcolor": "white",
            "linecolor": "white",
            "ticks": ""
           },
           "bgcolor": "#E5ECF6",
           "caxis": {
            "gridcolor": "white",
            "linecolor": "white",
            "ticks": ""
           }
          },
          "title": {
           "x": 0.05
          },
          "xaxis": {
           "automargin": true,
           "gridcolor": "white",
           "linecolor": "white",
           "ticks": "",
           "title": {
            "standoff": 15
           },
           "zerolinecolor": "white",
           "zerolinewidth": 2
          },
          "yaxis": {
           "automargin": true,
           "gridcolor": "white",
           "linecolor": "white",
           "ticks": "",
           "title": {
            "standoff": 15
           },
           "zerolinecolor": "white",
           "zerolinewidth": 2
          }
         }
        },
        "xaxis": {
         "anchor": "y",
         "domain": [
          0,
          1
         ],
         "title": {
          "text": "carat"
         }
        },
        "yaxis": {
         "anchor": "x",
         "domain": [
          0,
          1
         ],
         "title": {
          "text": "price"
         }
        }
       }
      },
      "text/html": [
       "<div>                            <div id=\"82613792-4116-4009-9f06-86270233c9c5\" class=\"plotly-graph-div\" style=\"height:525px; width:100%;\"></div>            <script type=\"text/javascript\">                require([\"plotly\"], function(Plotly) {                    window.PLOTLYENV=window.PLOTLYENV || {};                                    if (document.getElementById(\"82613792-4116-4009-9f06-86270233c9c5\")) {                    Plotly.newPlot(                        \"82613792-4116-4009-9f06-86270233c9c5\",                        [{\"alignmentgroup\": \"True\", \"hovertemplate\": \"carat=%{x}<br>price=%{y}<extra></extra>\", \"legendgroup\": \"\", \"marker\": {\"color\": \"#636efa\"}, \"name\": \"\", \"offsetgroup\": \"\", \"orientation\": \"v\", \"showlegend\": false, \"textposition\": \"auto\", \"type\": \"bar\", \"x\": [0.2, 0.21, 0.22, 0.23, 0.24, 0.26, 0.25, 0.27, 0.28, 0.29, 0.3, 0.31, 0.32, 0.34, 0.33, 0.36, 0.35, 0.37, 0.38, 0.39, 0.4, 0.41, 0.42, 0.43, 0.44, 0.45, 0.46, 0.49, 0.47, 0.48, 0.5, 0.51, 0.52, 0.53, 0.54, 0.55, 0.57, 0.58, 0.56, 0.59, 0.62, 0.6, 0.67, 0.61, 0.64, 0.63, 0.69, 0.66, 0.65, 0.68, 0.7, 0.71, 0.72, 0.75, 0.74, 0.73, 0.76, 0.77, 0.79, 0.78, 0.81, 0.82, 0.8, 0.85, 0.83, 0.84, 0.86, 0.87, 0.89, 0.98, 0.88, 0.96, 0.9, 0.93, 0.91, 0.92, 0.95, 0.97, 0.94, 0.99, 1.0, 1.01, 1.03, 1.02, 1.08, 1.04, 1.96, 1.05, 1.1, 1.12, 1.15, 1.09, 1.07, 1.06, 1.11, 1.13, 1.16, 1.17, 1.14, 1.18, 1.19, 1.2, 1.21, 1.27, 1.22, 1.44, 1.25, 1.29, 1.24, 1.23, 1.35, 1.26, 1.48, 1.47, 1.32, 1.31, 1.28, 1.33, 1.3, 1.46, 1.39, 1.34, 1.38, 1.37, 1.36, 1.45, 2.74, 1.4, 2.68, 1.43, 1.41, 1.49, 3.11, 2.34, 1.56, 1.85, 1.5, 1.42, 1.65, 2.77, 1.57, 3.05, 1.66, 3.02, 1.51, 1.52, 1.53, 1.64, 1.61, 1.54, 1.55, 1.81, 1.59, 1.88, 1.6, 1.84, 1.77, 1.58, 1.63, 1.73, 1.62, 1.94, 1.71, 1.67, 1.74, 1.72, 1.69, 1.7, 1.68, 1.83, 3.24, 1.75, 1.95, 1.76, 1.9, 3.22, 3.5, 2.63, 1.8, 1.78, 3.0, 1.82, 1.91, 1.87, 1.86, 1.79, 2.27, 2.49, 2.22, 2.0, 2.17, 2.33, 1.99, 2.1, 2.11, 2.25, 2.75, 2.5, 2.7, 2.58, 2.15, 2.06, 2.03, 2.23, 1.98, 2.72, 2.02, 2.04, 2.01, 2.14, 2.08, 2.19, 2.26, 2.31, 4.01, 2.18, 2.54, 2.38, 2.2, 2.09, 2.07, 2.3, 2.43, 2.13, 1.92, 2.05, 2.29, 2.21, 3.01, 2.47, 2.28, 2.12, 2.16, 2.41, 2.24, 3.4, 4.0, 2.32, 2.35, 2.46, 2.36, 2.66, 2.61, 2.52, 2.65, 2.44, 2.53, 2.51, 2.59, 2.48, 2.55, 1.89, 2.37, 2.4, 2.56, 2.8, 2.42, 2.6, 2.39, 2.71, 4.13, 2.45, 2.64, 1.97, 2.57, 1.93, 4.5, 3.04, 2.67, 3.51], \"xaxis\": \"x\", \"y\": [363.3333333333333, 380.22222222222223, 391.4, 487.2616822429907, 506.77837837837836, 548.4895833333334, 548.9090909090909, 573.7102272727273, 576.4353741496599, 609.6808510638298, 676.5590471363406, 709.3110075713454, 721.0652329749104, 756.8079877112135, 766.9793253536453, 781.6993006993007, 794.138832997988, 822.5152542372881, 898.78515625, 921.1176470588235, 933.9107505070994, 976.576171875, 996.7214022140222, 999.4465240641712, 1069.075, 1069.873417721519, 1233.9424460431655, 1270.142857142857, 1273.9014084507041, 1347.4888888888888, 1503.633909287257, 1616.394117647059, 1659.3976510067114, 1667.7875939849623, 1705.4979079497907, 1732.6134020618556, 1790.3555555555556, 1804.567901234568, 1812.1495844875346, 1836.5129310344828, 1955.0, 1989.3354037267081, 2064.657894736842, 2097.090277777778, 2149.883333333333, 2206.6315789473683, 2252.4736842105262, 2323.6875, 2385.725490196078, 2464.315789473684, 2522.136834830684, 2683.121243523316, 2714.8728222996515, 2735.441988950276, 2820.858974358974, 2826.4187327823693, 2863.318918918919, 2863.5833333333335, 2941.3032786885246, 2971.1555555555556, 3011.6339869281046, 3078.223300970874, 3128.688679245283, 3167.5, 3213.818181818182, 3307.408163265306, 3326.0689655172414, 3350.55, 3367.9333333333334, 3431.625, 3463.4, 3649.125, 3932.806624888093, 3965.1176470588234, 3967.4736842105262, 4017.0886075949365, 4017.469387755102, 4082.133333333333, 4223.0888888888885, 4310.333333333333, 5218.039301310044, 5489.654974123059, 5580.495934959349, 5616.202127659574, 5749.0, 5776.026011560693, 5850.5, 5860.2962962962965, 5898.774647887324, 5950.436170212766, 5953.75652173913, 5960.095454545454, 6042.384937238494, 6050.904593639576, 6059.254310344828, 6177.978142076503, 6192.564885496183, 6219.113636363636, 6250.676470588235, 6474.471910112359, 6483.958333333333, 6649.022132796781, 6822.8216374269, 6883.677083333333, 6967.41628959276, 6999.416666666667, 7081.253623188406, 7135.533333333334, 7184.771929824561, 7350.464454976303, 7378.65, 7500.717171717171, 7512.0, 7556.454545454545, 7569.806451612903, 7658.817307692308, 7705.935064935065, 7738.476190476191, 7751.1, 7762.538461538462, 8022.896551724138, 8029.56, 8295.29411764706, 8405.25, 8664.411764705883, 8806.7, 8807.0, 8942.51282051282, 9042.0, 9356.57142857143, 9741.357142857143, 9813.0, 9823.0, 9856.0, 10009.784810126583, 10031.5, 10038.735785953177, 10049.375, 10349.72, 10424.0, 10447.878048780487, 10453.0, 10526.894736842105, 10577.0, 10584.816831683169, 10598.052083333334, 10638.823529411764, 10696.911764705883, 10773.1, 10809.031007751939, 10810.10465116279, 10813.166666666666, 10877.666666666666, 10946.25, 11034.463768115942, 11108.5, 11415.692307692309, 11444.728571428572, 11471.763157894737, 11688.763157894737, 11865.288888888888, 11916.5, 12010.978494623656, 12013.75, 12020.242424242424, 12039.704545454546, 12057.894736842105, 12088.846625766872, 12132.461538461539, 12169.9375, 12300.0, 12307.533333333333, 12340.666666666666, 12387.869565217392, 12444.8, 12545.0, 12587.0, 12659.666666666666, 12679.2, 12720.125, 12828.75, 12917.25, 12919.375, 13024.4, 13134.0, 13399.545454545454, 13744.9, 13843.0, 13854.65, 13891.539603960397, 13905.0, 14089.777777777777, 14179.0, 14188.131578947368, 14246.142857142857, 14266.266666666666, 14285.5, 14288.8, 14341.0, 14347.5, 14445.722222222223, 14479.854166666666, 14529.434782608696, 14580.0, 14689.5, 14697.5, 14751.720930232557, 14783.074626865671, 14822.888554216868, 14838.658536585366, 14926.382352941177, 14958.722222222223, 14981.636363636364, 15159.727272727272, 15223.0, 15246.56, 15261.333333333334, 15315.42857142857, 15316.333333333334, 15325.933333333332, 15329.857142857143, 15353.384615384615, 15356.0, 15379.277777777777, 15418.0, 15443.384615384615, 15449.76923076923, 15470.8125, 15482.666666666666, 15644.0, 15646.875, 15675.777777777777, 15744.947368421053, 15808.2, 15855.0, 15964.0, 15984.0, 15996.5, 16090.42857142857, 16105.5, 16115.0, 16239.0, 16270.0, 16307.714285714286, 16314.0, 16365.5, 16374.6, 16392.64285714286, 16465.0, 16501.75, 16558.5, 16573.5, 16595.0, 16665.444444444445, 16723.333333333332, 16909.0, 16924.166666666668, 17118.0, 17121.25, 17146.0, 17329.0, 17351.0, 17407.0, 17456.0, 17841.666666666668, 17884.666666666668, 18531.0, 18559.0, 18686.0, 18701.0], \"yaxis\": \"y\"}],                        {\"barmode\": \"relative\", \"legend\": {\"tracegroupgap\": 0}, \"margin\": {\"t\": 60}, \"template\": {\"data\": {\"bar\": [{\"error_x\": {\"color\": \"#2a3f5f\"}, \"error_y\": {\"color\": \"#2a3f5f\"}, \"marker\": {\"line\": {\"color\": \"#E5ECF6\", \"width\": 0.5}}, \"type\": \"bar\"}], \"barpolar\": [{\"marker\": {\"line\": {\"color\": \"#E5ECF6\", \"width\": 0.5}}, \"type\": \"barpolar\"}], \"carpet\": [{\"aaxis\": {\"endlinecolor\": \"#2a3f5f\", \"gridcolor\": \"white\", \"linecolor\": \"white\", \"minorgridcolor\": \"white\", \"startlinecolor\": \"#2a3f5f\"}, \"baxis\": {\"endlinecolor\": \"#2a3f5f\", \"gridcolor\": \"white\", \"linecolor\": \"white\", \"minorgridcolor\": \"white\", \"startlinecolor\": \"#2a3f5f\"}, \"type\": \"carpet\"}], \"choropleth\": [{\"colorbar\": {\"outlinewidth\": 0, \"ticks\": \"\"}, \"type\": \"choropleth\"}], \"contour\": [{\"colorbar\": {\"outlinewidth\": 0, \"ticks\": \"\"}, \"colorscale\": [[0.0, \"#0d0887\"], [0.1111111111111111, \"#46039f\"], [0.2222222222222222, \"#7201a8\"], [0.3333333333333333, \"#9c179e\"], [0.4444444444444444, \"#bd3786\"], [0.5555555555555556, \"#d8576b\"], [0.6666666666666666, \"#ed7953\"], [0.7777777777777778, \"#fb9f3a\"], [0.8888888888888888, \"#fdca26\"], [1.0, \"#f0f921\"]], \"type\": \"contour\"}], \"contourcarpet\": [{\"colorbar\": {\"outlinewidth\": 0, \"ticks\": \"\"}, \"type\": \"contourcarpet\"}], \"heatmap\": [{\"colorbar\": {\"outlinewidth\": 0, \"ticks\": \"\"}, \"colorscale\": [[0.0, \"#0d0887\"], [0.1111111111111111, \"#46039f\"], [0.2222222222222222, \"#7201a8\"], [0.3333333333333333, \"#9c179e\"], [0.4444444444444444, \"#bd3786\"], [0.5555555555555556, \"#d8576b\"], [0.6666666666666666, \"#ed7953\"], [0.7777777777777778, \"#fb9f3a\"], [0.8888888888888888, \"#fdca26\"], [1.0, \"#f0f921\"]], \"type\": \"heatmap\"}], \"heatmapgl\": [{\"colorbar\": {\"outlinewidth\": 0, \"ticks\": \"\"}, \"colorscale\": [[0.0, \"#0d0887\"], [0.1111111111111111, \"#46039f\"], [0.2222222222222222, \"#7201a8\"], [0.3333333333333333, \"#9c179e\"], [0.4444444444444444, \"#bd3786\"], [0.5555555555555556, \"#d8576b\"], [0.6666666666666666, \"#ed7953\"], [0.7777777777777778, \"#fb9f3a\"], [0.8888888888888888, \"#fdca26\"], [1.0, \"#f0f921\"]], \"type\": \"heatmapgl\"}], \"histogram\": [{\"marker\": {\"colorbar\": {\"outlinewidth\": 0, \"ticks\": \"\"}}, \"type\": \"histogram\"}], \"histogram2d\": [{\"colorbar\": {\"outlinewidth\": 0, \"ticks\": \"\"}, \"colorscale\": [[0.0, \"#0d0887\"], [0.1111111111111111, \"#46039f\"], [0.2222222222222222, \"#7201a8\"], [0.3333333333333333, \"#9c179e\"], [0.4444444444444444, \"#bd3786\"], [0.5555555555555556, \"#d8576b\"], [0.6666666666666666, \"#ed7953\"], [0.7777777777777778, \"#fb9f3a\"], [0.8888888888888888, \"#fdca26\"], [1.0, \"#f0f921\"]], \"type\": \"histogram2d\"}], \"histogram2dcontour\": [{\"colorbar\": {\"outlinewidth\": 0, \"ticks\": \"\"}, \"colorscale\": [[0.0, \"#0d0887\"], [0.1111111111111111, \"#46039f\"], [0.2222222222222222, \"#7201a8\"], [0.3333333333333333, \"#9c179e\"], [0.4444444444444444, \"#bd3786\"], [0.5555555555555556, \"#d8576b\"], [0.6666666666666666, \"#ed7953\"], [0.7777777777777778, \"#fb9f3a\"], [0.8888888888888888, \"#fdca26\"], [1.0, \"#f0f921\"]], \"type\": \"histogram2dcontour\"}], \"mesh3d\": [{\"colorbar\": {\"outlinewidth\": 0, \"ticks\": \"\"}, \"type\": \"mesh3d\"}], \"parcoords\": [{\"line\": {\"colorbar\": {\"outlinewidth\": 0, \"ticks\": \"\"}}, \"type\": \"parcoords\"}], \"pie\": [{\"automargin\": true, \"type\": \"pie\"}], \"scatter\": [{\"marker\": {\"colorbar\": {\"outlinewidth\": 0, \"ticks\": \"\"}}, \"type\": \"scatter\"}], \"scatter3d\": [{\"line\": {\"colorbar\": {\"outlinewidth\": 0, \"ticks\": \"\"}}, \"marker\": {\"colorbar\": {\"outlinewidth\": 0, \"ticks\": \"\"}}, \"type\": \"scatter3d\"}], \"scattercarpet\": [{\"marker\": {\"colorbar\": {\"outlinewidth\": 0, \"ticks\": \"\"}}, \"type\": \"scattercarpet\"}], \"scattergeo\": [{\"marker\": {\"colorbar\": {\"outlinewidth\": 0, \"ticks\": \"\"}}, \"type\": \"scattergeo\"}], \"scattergl\": [{\"marker\": {\"colorbar\": {\"outlinewidth\": 0, \"ticks\": \"\"}}, \"type\": \"scattergl\"}], \"scattermapbox\": [{\"marker\": {\"colorbar\": {\"outlinewidth\": 0, \"ticks\": \"\"}}, \"type\": \"scattermapbox\"}], \"scatterpolar\": [{\"marker\": {\"colorbar\": {\"outlinewidth\": 0, \"ticks\": \"\"}}, \"type\": \"scatterpolar\"}], \"scatterpolargl\": [{\"marker\": {\"colorbar\": {\"outlinewidth\": 0, \"ticks\": \"\"}}, \"type\": \"scatterpolargl\"}], \"scatterternary\": [{\"marker\": {\"colorbar\": {\"outlinewidth\": 0, \"ticks\": \"\"}}, \"type\": \"scatterternary\"}], \"surface\": [{\"colorbar\": {\"outlinewidth\": 0, \"ticks\": \"\"}, \"colorscale\": [[0.0, \"#0d0887\"], [0.1111111111111111, \"#46039f\"], [0.2222222222222222, \"#7201a8\"], [0.3333333333333333, \"#9c179e\"], [0.4444444444444444, \"#bd3786\"], [0.5555555555555556, \"#d8576b\"], [0.6666666666666666, \"#ed7953\"], [0.7777777777777778, \"#fb9f3a\"], [0.8888888888888888, \"#fdca26\"], [1.0, \"#f0f921\"]], \"type\": \"surface\"}], \"table\": [{\"cells\": {\"fill\": {\"color\": \"#EBF0F8\"}, \"line\": {\"color\": \"white\"}}, \"header\": {\"fill\": {\"color\": \"#C8D4E3\"}, \"line\": {\"color\": \"white\"}}, \"type\": \"table\"}]}, \"layout\": {\"annotationdefaults\": {\"arrowcolor\": \"#2a3f5f\", \"arrowhead\": 0, \"arrowwidth\": 1}, \"autotypenumbers\": \"strict\", \"coloraxis\": {\"colorbar\": {\"outlinewidth\": 0, \"ticks\": \"\"}}, \"colorscale\": {\"diverging\": [[0, \"#8e0152\"], [0.1, \"#c51b7d\"], [0.2, \"#de77ae\"], [0.3, \"#f1b6da\"], [0.4, \"#fde0ef\"], [0.5, \"#f7f7f7\"], [0.6, \"#e6f5d0\"], [0.7, \"#b8e186\"], [0.8, \"#7fbc41\"], [0.9, \"#4d9221\"], [1, \"#276419\"]], \"sequential\": [[0.0, \"#0d0887\"], [0.1111111111111111, \"#46039f\"], [0.2222222222222222, \"#7201a8\"], [0.3333333333333333, \"#9c179e\"], [0.4444444444444444, \"#bd3786\"], [0.5555555555555556, \"#d8576b\"], [0.6666666666666666, \"#ed7953\"], [0.7777777777777778, \"#fb9f3a\"], [0.8888888888888888, \"#fdca26\"], [1.0, \"#f0f921\"]], \"sequentialminus\": [[0.0, \"#0d0887\"], [0.1111111111111111, \"#46039f\"], [0.2222222222222222, \"#7201a8\"], [0.3333333333333333, \"#9c179e\"], [0.4444444444444444, \"#bd3786\"], [0.5555555555555556, \"#d8576b\"], [0.6666666666666666, \"#ed7953\"], [0.7777777777777778, \"#fb9f3a\"], [0.8888888888888888, \"#fdca26\"], [1.0, \"#f0f921\"]]}, \"colorway\": [\"#636efa\", \"#EF553B\", \"#00cc96\", \"#ab63fa\", \"#FFA15A\", \"#19d3f3\", \"#FF6692\", \"#B6E880\", \"#FF97FF\", \"#FECB52\"], \"font\": {\"color\": \"#2a3f5f\"}, \"geo\": {\"bgcolor\": \"white\", \"lakecolor\": \"white\", \"landcolor\": \"#E5ECF6\", \"showlakes\": true, \"showland\": true, \"subunitcolor\": \"white\"}, \"hoverlabel\": {\"align\": \"left\"}, \"hovermode\": \"closest\", \"mapbox\": {\"style\": \"light\"}, \"paper_bgcolor\": \"white\", \"plot_bgcolor\": \"#E5ECF6\", \"polar\": {\"angularaxis\": {\"gridcolor\": \"white\", \"linecolor\": \"white\", \"ticks\": \"\"}, \"bgcolor\": \"#E5ECF6\", \"radialaxis\": {\"gridcolor\": \"white\", \"linecolor\": \"white\", \"ticks\": \"\"}}, \"scene\": {\"xaxis\": {\"backgroundcolor\": \"#E5ECF6\", \"gridcolor\": \"white\", \"gridwidth\": 2, \"linecolor\": \"white\", \"showbackground\": true, \"ticks\": \"\", \"zerolinecolor\": \"white\"}, \"yaxis\": {\"backgroundcolor\": \"#E5ECF6\", \"gridcolor\": \"white\", \"gridwidth\": 2, \"linecolor\": \"white\", \"showbackground\": true, \"ticks\": \"\", \"zerolinecolor\": \"white\"}, \"zaxis\": {\"backgroundcolor\": \"#E5ECF6\", \"gridcolor\": \"white\", \"gridwidth\": 2, \"linecolor\": \"white\", \"showbackground\": true, \"ticks\": \"\", \"zerolinecolor\": \"white\"}}, \"shapedefaults\": {\"line\": {\"color\": \"#2a3f5f\"}}, \"ternary\": {\"aaxis\": {\"gridcolor\": \"white\", \"linecolor\": \"white\", \"ticks\": \"\"}, \"baxis\": {\"gridcolor\": \"white\", \"linecolor\": \"white\", \"ticks\": \"\"}, \"bgcolor\": \"#E5ECF6\", \"caxis\": {\"gridcolor\": \"white\", \"linecolor\": \"white\", \"ticks\": \"\"}}, \"title\": {\"x\": 0.05}, \"xaxis\": {\"automargin\": true, \"gridcolor\": \"white\", \"linecolor\": \"white\", \"ticks\": \"\", \"title\": {\"standoff\": 15}, \"zerolinecolor\": \"white\", \"zerolinewidth\": 2}, \"yaxis\": {\"automargin\": true, \"gridcolor\": \"white\", \"linecolor\": \"white\", \"ticks\": \"\", \"title\": {\"standoff\": 15}, \"zerolinecolor\": \"white\", \"zerolinewidth\": 2}}}, \"xaxis\": {\"anchor\": \"y\", \"domain\": [0.0, 1.0], \"title\": {\"text\": \"carat\"}}, \"yaxis\": {\"anchor\": \"x\", \"domain\": [0.0, 1.0], \"title\": {\"text\": \"price\"}}},                        {\"responsive\": true}                    ).then(function(){\n",
       "                            \n",
       "var gd = document.getElementById('82613792-4116-4009-9f06-86270233c9c5');\n",
       "var x = new MutationObserver(function (mutations, observer) {{\n",
       "        var display = window.getComputedStyle(gd).display;\n",
       "        if (!display || display === 'none') {{\n",
       "            console.log([gd, 'removed!']);\n",
       "            Plotly.purge(gd);\n",
       "            observer.disconnect();\n",
       "        }}\n",
       "}});\n",
       "\n",
       "// Listen for the removal of the full notebook cells\n",
       "var notebookContainer = gd.closest('#notebook-container');\n",
       "if (notebookContainer) {{\n",
       "    x.observe(notebookContainer, {childList: true});\n",
       "}}\n",
       "\n",
       "// Listen for the clearing of the current output cell\n",
       "var outputEl = gd.closest('.output');\n",
       "if (outputEl) {{\n",
       "    x.observe(outputEl, {childList: true});\n",
       "}}\n",
       "\n",
       "                        })                };                });            </script>        </div>"
      ]
     },
     "metadata": {},
     "output_type": "display_data"
    }
   ],
   "source": [
    "cut_prices = diamonds_train[['cut', 'price']].groupby('cut', as_index=False).agg('mean').sort_values('price')\n",
    "\n",
    "px.bar(cut_prices, x='cut', y='price')\n",
    "\n",
    "color_prices = diamonds_train[['color', 'price']].groupby('color', as_index=False).agg('mean').sort_values('price')\n",
    "\n",
    "px.bar(color_prices, x='color', y='price')\n",
    "\n",
    "carat_prices = diamonds_train[['carat', 'price']].groupby('carat', as_index=False).agg('mean').sort_values('price')\n",
    "\n",
    "px.bar(carat_prices, x='carat', y='price')"
   ]
  },
  {
   "cell_type": "code",
   "execution_count": 40,
   "metadata": {},
   "outputs": [
    {
     "data": {
      "text/plain": [
       "<AxesSubplot:xlabel='table', ylabel='price'>"
      ]
     },
     "execution_count": 40,
     "metadata": {},
     "output_type": "execute_result"
    },
    {
     "data": {
      "image/png": "[encoded data removed]",
      "text/plain": [
       "<Figure size 1224x360 with 3 Axes>"
      ]
     },
     "metadata": {
      "needs_background": "light"
     },
     "output_type": "display_data"
    }
   ],
   "source": [
    "diamonds_train['volume'] = diamonds_train['x'] * diamonds_train['y'] * diamonds_train['z']\n",
    "\n",
    "fig, axes = plt.subplots(1,3, figsize=(17,5))\n",
    "\n",
    "sns.scatterplot(ax=axes[0], data=diamonds_train, x='volume', y='price').set(xlim=(10,700))\n",
    "sns.scatterplot(ax=axes[1], data=diamonds_train, x='carat', y='price')\n",
    "sns.scatterplot(ax=axes[2], data=diamonds_train, x='table', y='price')"
   ]
  },
  {
   "cell_type": "code",
   "execution_count": null,
   "metadata": {},
   "outputs": [],
   "source": []
  }
 ],
 "metadata": {
  "kernelspec": {
   "display_name": "Python 3",
   "language": "python",
   "name": "python3"
  },
  "language_info": {
   "codemirror_mode": {
    "name": "ipython",
    "version": 3
   },
   "file_extension": ".py",
   "mimetype": "text/x-python",
   "name": "python",
   "nbconvert_exporter": "python",
   "pygments_lexer": "ipython3",
   "version": "3.8.3"
  }
 },
 "nbformat": 4,
 "nbformat_minor": 4
}
